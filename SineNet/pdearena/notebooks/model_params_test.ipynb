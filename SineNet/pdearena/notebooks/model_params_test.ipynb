{
 "cells": [
  {
   "cell_type": "code",
   "execution_count": 1,
   "id": "f826c2a1",
   "metadata": {},
   "outputs": [
    {
     "ename": "ModuleNotFoundError",
     "evalue": "No module named 'pdearena'",
     "output_type": "error",
     "traceback": [
      "\u001b[0;31m---------------------------------------------------------------------------\u001b[0m",
      "\u001b[0;31mModuleNotFoundError\u001b[0m                       Traceback (most recent call last)",
      "Cell \u001b[0;32mIn[1], line 1\u001b[0m\n\u001b[0;32m----> 1\u001b[0m \u001b[38;5;28;01mfrom\u001b[39;00m\u001b[38;5;250m \u001b[39m\u001b[38;5;21;01mpdearena\u001b[39;00m\u001b[38;5;250m \u001b[39m\u001b[38;5;28;01mimport\u001b[39;00m utils\n\u001b[1;32m      2\u001b[0m \u001b[38;5;28;01mfrom\u001b[39;00m\u001b[38;5;250m \u001b[39m\u001b[38;5;21;01mpdearena\u001b[39;00m\u001b[38;5;21;01m.\u001b[39;00m\u001b[38;5;21;01mmodules\u001b[39;00m\u001b[38;5;21;01m.\u001b[39;00m\u001b[38;5;21;01msinenet_dual\u001b[39;00m\u001b[38;5;250m \u001b[39m\u001b[38;5;28;01mimport\u001b[39;00m sinenet\n\u001b[1;32m      3\u001b[0m \u001b[38;5;28;01mimport\u001b[39;00m\u001b[38;5;250m \u001b[39m\u001b[38;5;21;01mtorch\u001b[39;00m\n",
      "\u001b[0;31mModuleNotFoundError\u001b[0m: No module named 'pdearena'"
     ]
    }
   ],
   "source": [
    "from pdearena import utils\n",
    "from pdearena.modules.sinenet_dual import sinenet\n",
    "import torch"
   ]
  },
  {
   "cell_type": "code",
   "execution_count": 54,
   "id": "7da3c6a3",
   "metadata": {},
   "outputs": [
    {
     "name": "stdout",
     "output_type": "stream",
     "text": [
      "circular\n",
      "# par: 20365676, M=1.175\n",
      "Channels: 64->75->88->103->121\n",
      "Total trainable parameters: 20.37M\n",
      "torch.Size([1, 1, 4, 128, 384])\n"
     ]
    }
   ],
   "source": [
    "# Dummy input: (batch, time, channels, height, width)\n",
    "x = torch.randn(1, 4, 4, 128, 384)  # bijv. 2 timesteps, 1 scalar + 1 vector (2 components)\n",
    "\n",
    "model = sinenet(\n",
    "    n_input_scalar_components=2,\n",
    "    n_input_vector_components=1,\n",
    "    n_output_scalar_components=2,\n",
    "    n_output_vector_components=1,\n",
    "    time_history=4,\n",
    "    time_future=1,\n",
    "    hidden_channels=64,           # ⬅ probeer bijv. 48 of 32\n",
    "    padding_mode=\"circular\",\n",
    "    activation=\"gelu\",\n",
    "    num_layers=4,\n",
    "    num_waves=12,                  # ⬅ varieer dit\n",
    "    num_blocks=1,\n",
    "    norm=True,\n",
    "    mult=1.175,                     # ⬅ varieer dit\n",
    "    residual=True,\n",
    "    wave_residual=True,\n",
    "    disentangle=True,\n",
    "    down_pool=True,\n",
    "    avg_pool=True,\n",
    "    up_interpolation=True,\n",
    "    interpolation_mode='bicubic',\n",
    ")\n",
    "\n",
    "# Bereken aantal parameters\n",
    "param_count = sum(p.numel() for p in model.parameters())\n",
    "print(f\"Total trainable parameters: {param_count / 1e6:.2f}M\")\n",
    "\n",
    "# Check outputvorm (optioneel)\n",
    "out = model(x)\n",
    "print(out.shape)\n"
   ]
  },
  {
   "cell_type": "code",
   "execution_count": null,
   "id": "60b2d09e",
   "metadata": {},
   "outputs": [],
   "source": []
  }
 ],
 "metadata": {
  "kernelspec": {
   "display_name": "Python 3",
   "language": "python",
   "name": "python3"
  },
  "language_info": {
   "codemirror_mode": {
    "name": "ipython",
    "version": 3
   },
   "file_extension": ".py",
   "mimetype": "text/x-python",
   "name": "python",
   "nbconvert_exporter": "python",
   "pygments_lexer": "ipython3",
   "version": "3.10.0"
  }
 },
 "nbformat": 4,
 "nbformat_minor": 5
}
