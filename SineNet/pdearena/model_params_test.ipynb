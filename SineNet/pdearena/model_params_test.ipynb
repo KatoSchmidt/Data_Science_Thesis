{
 "cells": [
  {
   "cell_type": "markdown",
   "id": "e9e9039b",
   "metadata": {},
   "source": []
  },
  {
   "cell_type": "code",
   "execution_count": 1,
   "id": "f826c2a1",
   "metadata": {},
   "outputs": [],
   "source": [
    "from pdearena import utils\n",
    "from pdearena.modules.sinenet_dual import sinenet\n",
    "import torch"
   ]
  },
  {
   "cell_type": "code",
   "execution_count": 8,
   "id": "7da3c6a3",
   "metadata": {},
   "outputs": [
    {
     "name": "stdout",
     "output_type": "stream",
     "text": [
      "circular\n",
      "# par: 13722146, M=1.25\n",
      "Channels: 64->80->100->125->156\n",
      "Total trainable parameters: 13.72M\n",
      "torch.Size([1, 1, 4, 128, 384])\n"
     ]
    }
   ],
   "source": [
    "# Dummy input: (batch, time, channels, height, width)\n",
    "x = torch.randn(1, 4, 4, 128, 384)  # bijv. 2 timesteps, 1 scalar + 1 vector (2 components)\n",
    "\n",
    "model = sinenet(\n",
    "    n_input_scalar_components=2,\n",
    "    n_input_vector_components=1,\n",
    "    n_output_scalar_components=2,\n",
    "    n_output_vector_components=1,\n",
    "    time_history=4,\n",
    "    time_future=1,\n",
    "    hidden_channels=64,           # ⬅ probeer bijv. 48 of 32\n",
    "    padding_mode=\"circular\",\n",
    "    activation=\"gelu\",\n",
    "    num_layers=4,\n",
    "    num_waves=6,                  # ⬅ varieer dit\n",
    "    norm=True,\n",
    "    mult=1.25,                     # ⬅ varieer dit\n",
    "    residual=True,\n",
    "    wave_residual=True,\n",
    "    disentangle=True,\n",
    "    down_pool=True,\n",
    "    avg_pool=True,\n",
    "    up_interpolation=True,\n",
    "    interpolation_mode='bicubic',\n",
    ")\n",
    "\n",
    "# Bereken aantal parameters\n",
    "param_count = sum(p.numel() for p in model.parameters())\n",
    "print(f\"Total trainable parameters: {param_count / 1e6:.2f}M\")\n",
    "\n",
    "# Check outputvorm (optioneel)\n",
    "out = model(x)\n",
    "print(out.shape)\n"
   ]
  },
  {
   "cell_type": "code",
   "execution_count": null,
   "id": "60b2d09e",
   "metadata": {},
   "outputs": [],
   "source": []
  }
 ],
 "metadata": {
  "kernelspec": {
   "display_name": "base",
   "language": "python",
   "name": "python3"
  },
  "language_info": {
   "codemirror_mode": {
    "name": "ipython",
    "version": 3
   },
   "file_extension": ".py",
   "mimetype": "text/x-python",
   "name": "python",
   "nbconvert_exporter": "python",
   "pygments_lexer": "ipython3",
   "version": "3.10.8"
  }
 },
 "nbformat": 4,
 "nbformat_minor": 5
}
