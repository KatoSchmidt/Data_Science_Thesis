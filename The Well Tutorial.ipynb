{
 "cells": [
  {
   "cell_type": "code",
   "execution_count": 1,
   "id": "8441707c-dc7f-4720-b5cb-4cc8ce87287d",
   "metadata": {},
   "outputs": [
    {
     "name": "stdout",
     "output_type": "stream",
     "text": [
      "Total trainable parameters: 6,822,028\n"
     ]
    },
    {
     "name": "stderr",
     "output_type": "stream",
     "text": [
      "/Applications/Anaconda/anaconda3/lib/python3.10/site-packages/timm/models/layers/__init__.py:48: FutureWarning: Importing from timm.models.layers is deprecated, please import via timm.layers\n",
      "  warnings.warn(f\"Importing from {__name__} is deprecated, please import via timm.layers\", FutureWarning)\n",
      "/Applications/Anaconda/anaconda3/lib/python3.10/site-packages/torch/functional.py:478: UserWarning: torch.meshgrid: in an upcoming release, it will be required to pass the indexing argument. (Triggered internally at  /Users/runner/work/pytorch/pytorch/pytorch/aten/src/ATen/native/TensorShape.cpp:2895.)\n",
      "  return _VF.meshgrid(tensors, **kwargs)  # type: ignore[attr-defined]\n"
     ]
    }
   ],
   "source": [
    "import matplotlib.pyplot as plt\n",
    "import numpy as np\n",
    "import torch\n",
    "from einops import rearrange\n",
    "from tqdm import tqdm\n",
    "from the_well.benchmark.metrics import VRMSE\n",
    "from the_well.data import WellDataset, WellDataModule\n",
    "from the_well.benchmark.models.unet_classic import UNetClassic\n",
    "from the_well.benchmark.models.unet_convnext import UNetConvNext\n",
    "from the_well.benchmark.models.swinnet import SwinUnet\n",
    "from the_well.benchmark.models.sinenet import SineNet\n",
    "from the_well.data.normalization import ZScoreNormalization\n",
    "\n",
    "device = 'cpu'\n",
    "\n",
    "dataset = WellDataset(\n",
    "    well_base_path=\"/Users/katoschmidt/Desktop/the_well/datasets/\",\n",
    "    well_dataset_name=\"turbulent_radiative_layer_2D\",\n",
    "    n_steps_input=4,\n",
    "    n_steps_output=1,\n",
    "    well_split_name=\"train\",\n",
    "    use_normalization=True,\n",
    "    normalization_type= ZScoreNormalization,\n",
    "   include_filters = ['turbulent_radiative_layer_tcool_0.03.hdf5'])\n",
    "\n",
    "item = dataset[0]\n",
    "item['input_fields'].shape\n",
    "\n",
    "F = dataset.metadata.n_fields\n",
    "\n",
    "model = SwinUnet(\n",
    "    dim_in= F * 4,\n",
    "    dim_out= F,\n",
    "    n_spatial_dims= dataset.n_spatial_dims,\n",
    "    spatial_resolution= dataset.metadata.spatial_resolution,\n",
    "    img_size=(128, 384),\n",
    "    patch_size=4,\n",
    "    embed_dim = 48,\n",
    "    num_heads = [2, 4, 8],\n",
    "    depths = [2, 2, 2],\n",
    "    num_bottleneck_blocks = 2,\n",
    ")\n",
    "\n",
    "model = model.to(device)\n",
    "\n",
    "n_params = sum(p.numel() for p in model.parameters() if p.requires_grad)\n",
    "print(f\"Total trainable parameters: {n_params:,}\")\n",
    "\n",
    "# train_loader = torch.utils.data.DataLoader(\n",
    "#     dataset=dataset,\n",
    "#     shuffle=True,\n",
    "#     batch_size=4,\n",
    "#     num_workers=0)\n",
    "\n",
    "# optimizer = torch.optim.Adam(model.parameters(), lr=5e-3)\n",
    "\n",
    "# for epoch in range(1):\n",
    "#     for batch in (bar := tqdm(train_loader)):\n",
    "#         x = batch[\"input_fields\"]\n",
    "#         x = x.to(device)\n",
    "#         x = rearrange(x, \"B Ti Lx Ly F -> B (Ti F) Lx Ly\")\n",
    "\n",
    "#         y = batch[\"output_fields\"]\n",
    "#         y = y.to(device)\n",
    "#         y = rearrange(y, \"B To Lx Ly F -> B (To F) Lx Ly\")\n",
    "\n",
    "#         fx = model(x)\n",
    "\n",
    "#         mse = (fx - y).square().mean()\n",
    "#         mse.backward()\n",
    "\n",
    "#         optimizer.step()\n",
    "#         optimizer.zero_grad()\n",
    "\n",
    "#         bar.set_postfix(loss=mse.detach().item())"
   ]
  },
  {
   "cell_type": "code",
   "execution_count": 16,
   "id": "b02aca66",
   "metadata": {},
   "outputs": [],
   "source": [
    "validset = WellDataset(\n",
    "    well_base_path=\"/Users/katoschmidt/Desktop/the_well/datasets/\",\n",
    "    well_dataset_name=\"turbulent_radiative_layer_2D\",\n",
    "    n_steps_input=4,\n",
    "    n_steps_output=1,\n",
    "    well_split_name=\"valid\",\n",
    "    use_normalization=True,\n",
    "    normalization_type= ZScoreNormalization,)\n",
    "   #include_filters = ['turbulent_radiative_layer_tcool_0.03.hdf5'])"
   ]
  },
  {
   "cell_type": "code",
   "execution_count": 17,
   "id": "20f27995",
   "metadata": {},
   "outputs": [
    {
     "data": {
      "text/plain": [
       "tensor([[0.1339, 0.8597, 0.2135, 0.3368]])"
      ]
     },
     "execution_count": 17,
     "metadata": {},
     "output_type": "execute_result"
    }
   ],
   "source": [
    "item = validset[12]\n",
    "\n",
    "x = item[\"input_fields\"]\n",
    "x = x.to(device)\n",
    "x = rearrange(x, \"Ti Lx Ly F -> 1 (Ti F) Lx Ly\")\n",
    "\n",
    "y = item[\"output_fields\"]\n",
    "y = y.to(device)\n",
    "\n",
    "with torch.no_grad():\n",
    "    fx = model(x)\n",
    "    fx = rearrange(fx, \"1 (To F) Lx Ly -> To Lx Ly F\", F=F)\n",
    "\n",
    "VRMSE.eval(fx, y, meta=validset.metadata)"
   ]
  },
  {
   "cell_type": "code",
   "execution_count": null,
   "id": "7c890fd5",
   "metadata": {},
   "outputs": [],
   "source": []
  }
 ],
 "metadata": {
  "kernelspec": {
   "display_name": "base",
   "language": "python",
   "name": "python3"
  },
  "language_info": {
   "codemirror_mode": {
    "name": "ipython",
    "version": 3
   },
   "file_extension": ".py",
   "mimetype": "text/x-python",
   "name": "python",
   "nbconvert_exporter": "python",
   "pygments_lexer": "ipython3",
   "version": "3.10.8"
  }
 },
 "nbformat": 4,
 "nbformat_minor": 5
}
