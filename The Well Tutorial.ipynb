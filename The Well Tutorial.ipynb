{
 "cells": [
  {
   "cell_type": "markdown",
   "id": "8bd4337a-c7a9-47a3-a2da-19470f804436",
   "metadata": {},
   "source": [
    "# The Well: Turbulent Radiative Layer 2D Dataset"
   ]
  },
  {
   "cell_type": "code",
   "execution_count": 2,
   "id": "8441707c-dc7f-4720-b5cb-4cc8ce87287d",
   "metadata": {},
   "outputs": [
    {
     "name": "stderr",
     "output_type": "stream",
     "text": [
      "/Applications/Anaconda/anaconda3/lib/python3.10/site-packages/timm/models/layers/__init__.py:48: FutureWarning: Importing from timm.models.layers is deprecated, please import via timm.layers\n",
      "  warnings.warn(f\"Importing from {__name__} is deprecated, please import via timm.layers\", FutureWarning)\n"
     ]
    }
   ],
   "source": [
    "import matplotlib.pyplot as plt\n",
    "import numpy as np\n",
    "import torch\n",
    "from einops import rearrange\n",
    "from tqdm import tqdm\n",
    "from the_well.benchmark.metrics import VRMSE\n",
    "from the_well.data import WellDataset, WellDataModule\n",
    "#from the_well.utils.download import well_download\n",
    "from the_well.benchmark.models.unet_classic import UNetClassic\n",
    "from the_well.benchmark.models.unet_convnext import UNetConvNext\n",
    "from the_well.benchmark.models.sinenet import SineNet"
   ]
  },
  {
   "cell_type": "code",
   "execution_count": 3,
   "id": "4dd17b16-496f-4e77-b357-77db1d4aecb2",
   "metadata": {},
   "outputs": [],
   "source": [
    "device = \"mps\""
   ]
  },
  {
   "cell_type": "code",
   "execution_count": 10,
   "id": "2bb8d1f0",
   "metadata": {},
   "outputs": [
    {
     "data": {
      "text/plain": [
       "torch.Size([1, 4, 4])"
      ]
     },
     "execution_count": 10,
     "metadata": {},
     "output_type": "execute_result"
    }
   ],
   "source": [
    "def scaledlp_loss(input: torch.Tensor, target: torch.Tensor, p: int = 2, reduction: str = \"none\"):\n",
    "    assert input.dim() == 5 and target.dim() == 5 # B, T, C, S, S\n",
    "\n",
    "    # AANPASSING\n",
    "    # Zet naar [B, T, C, W, H] \n",
    "    input = input.permute(0, 1, 4, 2, 3)   # [B, T, C, H, W]\n",
    "    target = target.permute(0, 1, 4, 2, 3) # [B, T, C, H, W]\n",
    "\n",
    "    # Flatten spatial dims\n",
    "    input = input.flatten(3)   # [B, T, C, H*W]\n",
    "    target = target.flatten(3)\n",
    "\n",
    "    diff_norms = torch.norm(input - target, p, dim=-1)\n",
    "    target_norms = torch.norm(target, p, dim=-1)\n",
    "    val = diff_norms / target_norms\n",
    "    if reduction == \"mean\":\n",
    "        return torch.mean(val)\n",
    "    elif reduction == \"sum\":\n",
    "        return torch.sum(val)\n",
    "    elif reduction == \"none\":\n",
    "        return val\n",
    "    else:\n",
    "        raise NotImplementedError(reduction)\n",
    "    \n",
    "x = torch.randn(1, 4, 128, 384, 4) \n",
    "scaledlp_loss(x, x).shape"
   ]
  },
  {
   "cell_type": "markdown",
   "id": "a06c9f05-96d8-4791-8835-dd2ac9961020",
   "metadata": {},
   "source": [
    "### Loading in the datasets"
   ]
  },
  {
   "cell_type": "code",
   "execution_count": 9,
   "id": "98fc00c4-66c5-4cf8-894a-84cdf6cfc0f3",
   "metadata": {},
   "outputs": [],
   "source": [
    "dataset = WellDataset(\n",
    "    well_base_path=\"/Users/katoschmidt/Desktop/the_well/datasets/\",\n",
    "    well_dataset_name=\"turbulent_radiative_layer_2D\",\n",
    "    n_steps_input=4,\n",
    "    n_steps_output=1,\n",
    "    well_split_name=\"train\",\n",
    "    use_normalization=True,\n",
    "    include_filters = ['turbulent_radiative_layer_tcool_0.03.hdf5']\n",
    ")\n",
    "\n",
    "validset = WellDataset(\n",
    "    well_base_path= \"/Users/katoschmidt/Desktop/the_well/datasets/\",\n",
    "    well_dataset_name=\"turbulent_radiative_layer_2D\",\n",
    "    well_split_name=\"valid\",\n",
    "    n_steps_input=4,\n",
    "    n_steps_output=1,\n",
    "    use_normalization=True,\n",
    "    include_filters = ['turbulent_radiative_layer_tcool_0.03.hdf5']\n",
    ")"
   ]
  },
  {
   "cell_type": "markdown",
   "id": "b747cfa6",
   "metadata": {},
   "source": [
    "### Data properties "
   ]
  },
  {
   "cell_type": "code",
   "execution_count": 14,
   "id": "77a81e43",
   "metadata": {},
   "outputs": [
    {
     "data": {
      "text/plain": [
       "776"
      ]
     },
     "execution_count": 14,
     "metadata": {},
     "output_type": "execute_result"
    }
   ],
   "source": [
    "item = dataset[0]\n",
    "\n",
    "list(item.keys())\n",
    "\n",
    "item['input_time_grid'], item['output_time_grid']\n",
    "\n",
    "item[\"input_fields\"].shape\n",
    "\n",
    "item[\"output_fields\"].shape\n",
    "\n",
    "dataset.metadata.field_names\n",
    "\n",
    "field_names = [\n",
    "    name for group in dataset.metadata.field_names.values() for name in group\n",
    "]\n",
    "field_names\n",
    "\n",
    "window_size = dataset.n_steps_input + dataset.n_steps_output\n",
    "\n",
    "total_windows = 0\n",
    "for i in range(dataset.metadata.n_files):\n",
    "    windows_per_trajectory = (\n",
    "        dataset.metadata.n_steps_per_trajectory[i] - window_size + 1\n",
    "    )\n",
    "    total_windows += (\n",
    "        windows_per_trajectory * dataset.metadata.n_trajectories_per_file[i]\n",
    "    )\n",
    "len(dataset)"
   ]
  },
  {
   "cell_type": "markdown",
   "id": "9d2697b9-5eff-4733-9725-88e9939f6708",
   "metadata": {},
   "source": [
    "### Training"
   ]
  },
  {
   "cell_type": "code",
   "execution_count": 19,
   "id": "f256b617",
   "metadata": {},
   "outputs": [
    {
     "name": "stdout",
     "output_type": "stream",
     "text": [
      "torch.Size([1, 4, 4, 128, 384])\n"
     ]
    }
   ],
   "source": [
    "x = torch.randn(1, 4, 4, 128, 384) \n",
    "print(x.shape)"
   ]
  },
  {
   "cell_type": "code",
   "execution_count": 20,
   "id": "8303b8db",
   "metadata": {},
   "outputs": [
    {
     "name": "stdout",
     "output_type": "stream",
     "text": [
      "circular\n",
      "# par: 2931086, M=1.175\n",
      "Channels: 42->49->57->68->80\n"
     ]
    }
   ],
   "source": [
    "model = SineNet( n_input_scalar_components=2,\n",
    "        n_input_vector_components=1,\n",
    "        n_output_scalar_components=2,\n",
    "        n_output_vector_components=1,\n",
    "        time_history=4,\n",
    "        time_future=1,\n",
    "        hidden_channels=42,          \n",
    "        padding_mode=\"circular\",\n",
    "        num_waves=4,                  \n",
    "        num_blocks=1,\n",
    "        mult=1.175)"
   ]
  },
  {
   "cell_type": "code",
   "execution_count": 33,
   "id": "799c59ab-431b-431c-a948-8acd17f2de27",
   "metadata": {},
   "outputs": [],
   "source": [
    "F = dataset.metadata.n_fields\n",
    "\n",
    "model = UNetConvNext(dim_in= F * dataset.n_steps_input, dim_out= F * dataset.n_steps_output, n_spatial_dims= dataset.n_spatial_dims, spatial_resolution= dataset.metadata.spatial_resolution, init_features=42, blocks_per_stage=2)\n",
    "\n",
    "model.to(device)\n",
    "\n",
    "optimizer = torch.optim.Adam(model.parameters(), lr=5e-3)"
   ]
  },
  {
   "cell_type": "code",
   "execution_count": 34,
   "id": "760ad40e-0b5b-47e0-81ae-840ff9ecc85d",
   "metadata": {},
   "outputs": [],
   "source": [
    "train_loader = torch.utils.data.DataLoader(\n",
    "    dataset=dataset,\n",
    "    shuffle=True,\n",
    "    batch_size=4,\n",
    "    num_workers=0,\n",
    ")\n"
   ]
  },
  {
   "cell_type": "code",
   "execution_count": 29,
   "id": "aca1ffda",
   "metadata": {},
   "outputs": [
    {
     "name": "stderr",
     "output_type": "stream",
     "text": [
      "100%|██████████| 194/194 [02:22<00:00,  1.36it/s, loss=20.2]\n"
     ]
    }
   ],
   "source": [
    "for epoch in range(1):\n",
    "    for batch in (bar := tqdm(train_loader)):\n",
    "        x = batch[\"input_fields\"]\n",
    "        x = x.to(device)\n",
    "        x = rearrange(x, \"B Ti Lx Ly F -> B Ti F Lx Ly\")\n",
    "\n",
    "        y = batch[\"output_fields\"]\n",
    "        y = y.to(device)\n",
    "        y = rearrange(y, \"B To Lx Ly F -> B To F Lx Ly\")\n",
    "\n",
    "        fx = model(x)\n",
    "\n",
    "        mse = (fx - y).square().mean()\n",
    "        mse.backward()\n",
    "\n",
    "        optimizer.step()\n",
    "        optimizer.zero_grad()\n",
    "\n",
    "        bar.set_postfix(loss=mse.detach().item())\n"
   ]
  },
  {
   "cell_type": "markdown",
   "id": "2c43662d",
   "metadata": {},
   "source": [
    "### Validation/Evaluation"
   ]
  },
  {
   "cell_type": "code",
   "execution_count": 32,
   "id": "bea50414",
   "metadata": {},
   "outputs": [
    {
     "data": {
      "text/plain": [
       "tensor([[ 0.1085, 22.5729,  6.8271,  8.3092]], device='mps:0')"
      ]
     },
     "execution_count": 32,
     "metadata": {},
     "output_type": "execute_result"
    }
   ],
   "source": [
    "item = validset[12]\n",
    "\n",
    "x = item[\"input_fields\"]\n",
    "x = x.to(device)\n",
    "x = rearrange(x, \"Ti Lx Ly F -> 1 Ti F Lx Ly\")\n",
    "\n",
    "y = item[\"output_fields\"]\n",
    "y = y.to(device)\n",
    "\n",
    "with torch.no_grad():\n",
    "    fx = model(x)\n",
    "    fx = rearrange(fx, \"1 To F Lx Ly -> To Lx Ly F\", F=F)\n",
    "\n",
    "VRMSE.eval(fx, y, meta=validset.metadata)"
   ]
  },
  {
   "cell_type": "code",
   "execution_count": null,
   "id": "653b303e",
   "metadata": {},
   "outputs": [],
   "source": []
  },
  {
   "cell_type": "code",
   "execution_count": null,
   "id": "6b44da11",
   "metadata": {},
   "outputs": [],
   "source": []
  }
 ],
 "metadata": {
  "kernelspec": {
   "display_name": "base",
   "language": "python",
   "name": "python3"
  },
  "language_info": {
   "codemirror_mode": {
    "name": "ipython",
    "version": 3
   },
   "file_extension": ".py",
   "mimetype": "text/x-python",
   "name": "python",
   "nbconvert_exporter": "python",
   "pygments_lexer": "ipython3",
   "version": "3.10.8"
  }
 },
 "nbformat": 4,
 "nbformat_minor": 5
}
